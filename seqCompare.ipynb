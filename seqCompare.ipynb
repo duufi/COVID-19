{
 "cells": [
  {
   "cell_type": "markdown",
   "metadata": {},
   "source": [
    "<h1>Sequence Comparison</h1>\n",
    "<h2>Do 2 geographically distinct sequences differ in Nucleotide Content? Protein Content?</h2>\n",
    "<p>The purpose of this notebook is to present a comparison of two distincct genomes of Severe acute respiratory syndrome coronavirus 2 SARS-CoV-2, the causal agent of COVID-19</p>\n",
    "<p>The two sequences were collected on separate occasions and in distinct locations. The genomes were obtained from and can be found at <a href=\"https://www.ncbi.nlm.nih.gov/\">NCBI</a></p>\n",
    "<p>The first calculations to be done on the two genomes is a calculation of their GC content. According to <a href=\"https://www.ncbi.nlm.nih.gov/genome?LinkName=nuccore_genome&from_uid=1798172431\">NCBI</a>, the median GC% is 38%. Thus, we should expect to see a GC% at or near 38% for both of our genomes, and we do. Next, we will analyze the nucleotide content of each sequence. While this will not be able to tell us of anything in particular, knowing how two genomes differ can tell us a little about the organism's evolution</p>\n",
    "<p>Genome 1 can be found at -> <a href=\"https://www.ncbi.nlm.nih.gov/nuccore/NC_045512.2?report=fasta\">NCBI</a></p>\n",
    "<p>Genome 2 can be found at -> <a href=\"https://www.ncbi.nlm.nih.gov/nuccore/LC534418.1?report=fasta\">NCBI</a></p>"
   ]
  },
  {
   "cell_type": "code",
   "execution_count": 27,
   "metadata": {},
   "outputs": [
    {
     "name": "stdout",
     "output_type": "stream",
     "text": [
      "GC Content of genome 1 = 38.0%\n"
     ]
    }
   ],
   "source": [
    "from Bio.Seq import Seq\n",
    "from Bio.Alphabet import generic_dna\n",
    "from Bio.Alphabet import IUPAC\n",
    "from Bio.SeqUtils import GC\n",
    "genome1 = open(r\"C:\\Users\\drake\\OneDrive\\Desktop\\Desktop\\programs_practice\\python\\corona\\covidGenome1.fasta\", 'r')\n",
    "nucleotides1 = genome1.read()\n",
    "genome1.close()\n",
    "i = 0\n",
    "while nucleotides1[i] != 'A': \n",
    "    i += 1\n",
    "nucleotidesWithSpace = nucleotides1[i:]\n",
    "dna1 = nucleotidesWithSpace.replace('\\n', \"\")\n",
    "print('GC Content of genome 1 = ' + str(round(GC(dna), 1)) + '%')"
   ]
  },
  {
   "cell_type": "code",
   "execution_count": 28,
   "metadata": {},
   "outputs": [
    {
     "name": "stdout",
     "output_type": "stream",
     "text": [
      "GC Content of genome 2 = 38.0%\n"
     ]
    }
   ],
   "source": [
    "genome2 = open(r\"C:\\Users\\drake\\OneDrive\\Desktop\\Desktop\\programs_practice\\python\\corona\\covidGenome2.fasta\", 'r')\n",
    "nucleotides2 = genome2.read()\n",
    "genome2.close()\n",
    "i = 0\n",
    "while nucleotides2[i:i+2] != 'AA': \n",
    "    i += 1\n",
    "nucleotidesWithSpace = nucleotides1[i:]\n",
    "dna2 = nucleotidesWithSpace.replace('\\n', \"\")\n",
    "print('GC Content of genome 2 = ' + str(round(GC(dna), 1)) + '%')"
   ]
  },
  {
   "cell_type": "code",
   "execution_count": 55,
   "metadata": {},
   "outputs": [
    {
     "name": "stdout",
     "output_type": "stream",
     "text": [
      "__________Genome 1__________\n"
     ]
    },
    {
     "data": {
      "image/png": "[encoded data removed]",
      "text/plain": [
       "<Figure size 432x288 with 1 Axes>"
      ]
     },
     "metadata": {
      "needs_background": "light"
     },
     "output_type": "display_data"
    },
    {
     "name": "stdout",
     "output_type": "stream",
     "text": [
      "A:8954\tT:9594\tG:5863\tC:5492\n",
      "\n",
      "--------------------------------------------------\n",
      "\n",
      "__________Genome 2__________\n"
     ]
    },
    {
     "data": {
      "image/png": "[encoded data removed]",
      "text/plain": [
       "<Figure size 432x288 with 1 Axes>"
      ]
     },
     "metadata": {
      "needs_background": "light"
     },
     "output_type": "display_data"
    },
    {
     "name": "stdout",
     "output_type": "stream",
     "text": [
      "A:8949\tT:9588\tG:5861\tC:5492\n"
     ]
    }
   ],
   "source": [
    "import numpy as np\n",
    "import pandas as pd\n",
    "from pandas import Series, DataFrame\n",
    "import matplotlib.pyplot as plt\n",
    "\n",
    "data = [(Seq(str(dna1),generic_dna).count('A')), (Seq(str(dna1),generic_dna).count('T')), (Seq(str(dna1),generic_dna).count('G')), (Seq(str(dna1),generic_dna).count('C'))]\n",
    "plt.bar(['Adenine', 'Thymine', 'Guanine', 'Cytosine'], data)\n",
    "print(\"_\"*10 + 'Genome 1' + \"_\"*10)\n",
    "plt.show()\n",
    "print(\"A:\" + str((Seq(str(dna1),generic_dna).count('A'))) + \"\\tT:\" + str((Seq(str(dna1),generic_dna).count('T'))) + '\\tG:' + str((Seq(str(dna1),generic_dna).count('G'))) + '\\tC:' + str((Seq(str(dna1),generic_dna).count('C'))))\n",
    "\n",
    "print('\\n'+ '-'*50)\n",
    "data = [(Seq(str(dna2),generic_dna).count('A')), (Seq(str(dna2),generic_dna).count('T')), (Seq(str(dna2),generic_dna).count('G')), (Seq(str(dna2),generic_dna).count('C'))]\n",
    "plt.bar(['Adenine', 'Thymine', 'Guanine', 'Cytosine'], data)\n",
    "print(\"\\n\" + \"_\"*10 + 'Genome 2' + \"_\"*10)\n",
    "plt.show()\n",
    "print(\"A:\" + str((Seq(str(dna2),generic_dna).count('A'))) + \"\\tT:\" + str((Seq(str(dna2),generic_dna).count('T'))) + '\\tG:' + str((Seq(str(dna2),generic_dna).count('G'))) + '\\tC:' + str((Seq(str(dna2),generic_dna).count('C'))))\n",
    "\n"
   ]
  },
  {
   "cell_type": "code",
   "execution_count": null,
   "metadata": {},
   "outputs": [],
   "source": []
  }
 ],
 "metadata": {
  "kernelspec": {
   "display_name": "Python 3",
   "language": "python",
   "name": "python3"
  },
  "language_info": {
   "codemirror_mode": {
    "name": "ipython",
    "version": 3
   },
   "file_extension": ".py",
   "mimetype": "text/x-python",
   "name": "python",
   "nbconvert_exporter": "python",
   "pygments_lexer": "ipython3",
   "version": "3.7.6"
  }
 },
 "nbformat": 4,
 "nbformat_minor": 4
}
